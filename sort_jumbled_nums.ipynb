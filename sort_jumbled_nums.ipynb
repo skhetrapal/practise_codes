{
  "nbformat": 4,
  "nbformat_minor": 0,
  "metadata": {
    "colab": {
      "provenance": [],
      "authorship_tag": "ABX9TyNt+1UXHlCTrBx5LIG1Dxt/"
    },
    "kernelspec": {
      "name": "python3",
      "display_name": "Python 3"
    },
    "language_info": {
      "name": "python"
    }
  },
  "cells": [
    {
      "cell_type": "markdown",
      "source": [
        "# **Leetcode prob 2191. Sort Jumbled numbers**"
      ],
      "metadata": {
        "id": "iJsWZjNRiUd2"
      }
    },
    {
      "cell_type": "markdown",
      "source": [
        "## The following definition of *iterate_digits* extracts digits from a number. These are needed to map individual digits using the given map"
      ],
      "metadata": {
        "id": "R2XgiGP1hhxO"
      }
    },
    {
      "cell_type": "code",
      "source": [
        "def iterate_digits(num):\n",
        "  digits = []\n",
        "  while num > 0:\n",
        "    digit = num % 10\n",
        "    digits.append(digit)\n",
        "    num //= 10\n",
        "  digits.reverse()\n",
        "  return digits\n",
        "\n",
        "number = 12345\n",
        "print(iterate_digits(number))"
      ],
      "metadata": {
        "colab": {
          "base_uri": "https://localhost:8080/"
        },
        "id": "cnJ-QGDXDXYA",
        "outputId": "b20ad8a3-50e0-4f14-9c0b-5801c5c68db4"
      },
      "execution_count": 1,
      "outputs": [
        {
          "output_type": "stream",
          "name": "stdout",
          "text": [
            "[1, 2, 3, 4, 5]\n"
          ]
        }
      ]
    },
    {
      "cell_type": "markdown",
      "source": [
        "## The following cell defines the function to sort the numbers in array *nums* in ascending order when value of each digit for numbers in *nums* is given by the *mapping*."
      ],
      "metadata": {
        "id": "ATJnb9nhh1Vz"
      }
    },
    {
      "cell_type": "code",
      "execution_count": 5,
      "metadata": {
        "id": "eFESam_SB9ty"
      },
      "outputs": [],
      "source": [
        "def sort_nums(mapping, nums):\n",
        "  mapped = []\n",
        "\n",
        "  for num in nums:\n",
        "    new_num = 0\n",
        "    for digit in iterate_digits(num):\n",
        "      new_num = new_num*10+ mapping[digit]\n",
        "    mapped.append(new_num)\n",
        "\n",
        "  sorted = []\n",
        "  i=0\n",
        "\n",
        "  for i in range(len(nums)):\n",
        "    min_index = mapped.index(min(mapped))\n",
        "    value = nums[min_index]\n",
        "    sorted.append(value)\n",
        "    del mapped[min_index]\n",
        "    del nums[min_index]\n",
        "    #print(sorted, mapped, nums)\n",
        "    i += 1\n",
        "\n",
        "  return(sorted)"
      ]
    },
    {
      "cell_type": "code",
      "source": [
        "print(sort_nums([8,9,4,0,2,1,3,5,7,6], [991,338,38]))"
      ],
      "metadata": {
        "colab": {
          "base_uri": "https://localhost:8080/"
        },
        "id": "ff7kEZiBJVZ3",
        "outputId": "e954f6ab-df4c-407c-f7f0-6edf6236c9a4"
      },
      "execution_count": 6,
      "outputs": [
        {
          "output_type": "stream",
          "name": "stdout",
          "text": [
            "[338, 38, 991]\n"
          ]
        }
      ]
    },
    {
      "cell_type": "code",
      "source": [
        "print(sort_nums([0,1,2,3,4,5,6,7,8,9], [789,456,123]))"
      ],
      "metadata": {
        "colab": {
          "base_uri": "https://localhost:8080/"
        },
        "id": "6mw_F2AtCtWJ",
        "outputId": "c7929266-ff95-4950-cae0-25a418c523dd"
      },
      "execution_count": 7,
      "outputs": [
        {
          "output_type": "stream",
          "name": "stdout",
          "text": [
            "[123, 456, 789]\n"
          ]
        }
      ]
    },
    {
      "cell_type": "code",
      "source": [],
      "metadata": {
        "id": "qdQB2b11fdxL"
      },
      "execution_count": null,
      "outputs": []
    }
  ]
}