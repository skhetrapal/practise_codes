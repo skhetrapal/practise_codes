{
  "nbformat": 4,
  "nbformat_minor": 0,
  "metadata": {
    "colab": {
      "provenance": [],
      "authorship_tag": "ABX9TyNjOdTN5IA8qzu9yOX4xkIx",
      "include_colab_link": true
    },
    "kernelspec": {
      "name": "python3",
      "display_name": "Python 3"
    },
    "language_info": {
      "name": "python"
    }
  },
  "cells": [
    {
      "cell_type": "markdown",
      "metadata": {
        "id": "view-in-github",
        "colab_type": "text"
      },
      "source": [
        "<a href=\"https://colab.research.google.com/github/skhetrapal/practise_codes/blob/main/DFS.ipynb\" target=\"_parent\"><img src=\"https://colab.research.google.com/assets/colab-badge.svg\" alt=\"Open In Colab\"/></a>"
      ]
    },
    {
      "cell_type": "markdown",
      "source": [
        "#DFS to find nearest neighbour and next nearest neighbour"
      ],
      "metadata": {
        "id": "qyP-XVCd9soF"
      }
    },
    {
      "cell_type": "code",
      "execution_count": null,
      "metadata": {
        "id": "9RFy3TU29rNS"
      },
      "outputs": [],
      "source": [
        "from collections import defaultdict\n",
        "\n",
        "def find_most_popular_person(friends):\n",
        "    n = len(friends)\n",
        "    graph = defaultdict(list)\n",
        "    popularity = [0] * n\n",
        "    print(graph)\n",
        "\n",
        "    # Build the graph\n",
        "    for i in range(n):\n",
        "        for j in range(i + 1, n):\n",
        "            if friends[i][j] == 'Y':\n",
        "                graph[i].append(j)\n",
        "                graph[j].append(i)\n",
        "    print(graph)\n",
        "\n",
        "    def dfs(node, visited):\n",
        "        visited.add(node)\n",
        "        print(visited)\n",
        "        for neigh1 in graph[node]:\n",
        "            if neigh1 not in visited:\n",
        "              visited.add(neigh1)\n",
        "              print(visited)\n",
        "            for neigh2 in graph[neigh1]:\n",
        "              if neigh2 not in visited:\n",
        "                visited.add(neigh2)\n",
        "\n",
        "    # Calculate popularity using DFS\n",
        "    for person in range(n):\n",
        "        visited = set()\n",
        "        dfs(person, visited)\n",
        "        popularity[person] = len(visited) - 1 # Subtract 1 to exclude the person themselves\n",
        "        print(popularity)\n",
        "\n",
        "    return max(popularity)\n"
      ]
    },
    {
      "cell_type": "code",
      "source": [
        "n = int(input())\n",
        "adjacency_matrix = []\n",
        "for _ in range(n):\n",
        "    row = list(input())\n",
        "    adjacency_matrix.append(row)\n",
        "\n",
        "print(find_most_popular_person(adjacency_matrix))"
      ],
      "metadata": {
        "id": "y9SHcSj4918p"
      },
      "execution_count": null,
      "outputs": []
    }
  ]
}