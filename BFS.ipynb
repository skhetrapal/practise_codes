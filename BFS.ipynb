{
  "nbformat": 4,
  "nbformat_minor": 0,
  "metadata": {
    "colab": {
      "provenance": [],
      "authorship_tag": "ABX9TyN8ACaqz4iZ7PAOqAvnJUhw",
      "include_colab_link": true
    },
    "kernelspec": {
      "name": "python3",
      "display_name": "Python 3"
    },
    "language_info": {
      "name": "python"
    }
  },
  "cells": [
    {
      "cell_type": "markdown",
      "metadata": {
        "id": "view-in-github",
        "colab_type": "text"
      },
      "source": [
        "<a href=\"https://colab.research.google.com/github/skhetrapal/practise_codes/blob/main/BFS.ipynb\" target=\"_parent\"><img src=\"https://colab.research.google.com/assets/colab-badge.svg\" alt=\"Open In Colab\"/></a>"
      ]
    },
    {
      "cell_type": "markdown",
      "source": [
        "# BFS to find the shortest distance"
      ],
      "metadata": {
        "id": "ft5DNW8h-m8-"
      }
    },
    {
      "cell_type": "code",
      "execution_count": 1,
      "metadata": {
        "id": "NaR61RFEp-p6"
      },
      "outputs": [],
      "source": [
        "from collections import defaultdict, deque\n",
        "\n",
        "def bfs(n, m, edges, s):\n",
        "    adj = defaultdict(list)\n",
        "    for u, v in edges:\n",
        "        adj[u].append(v)\n",
        "        adj[v].append(u)\n",
        "    print(adj)\n",
        "\n",
        "    d = 0\n",
        "    dists = [-1] * n\n",
        "    q = deque([s])\n",
        "    print(dists,q)\n",
        "\n",
        "    while q:\n",
        "        for _ in range(len(q)):\n",
        "            node = q.popleft()\n",
        "            if dists[node - 1] == -1:  #check node not visited\n",
        "                dists[node - 1] = d * 6\n",
        "            for ch in adj[node]:\n",
        "                q.append(ch)\n",
        "            del adj[node] #remove node from graph\n",
        "        d += 1\n",
        "\n",
        "    pruned = [] #get rid of the 0 value entry\n",
        "    for d in dists:\n",
        "        if d != 0:\n",
        "            pruned.append(d)\n",
        "    return pruned"
      ]
    },
    {
      "cell_type": "code",
      "source": [
        "bfs(4, 2, [[4,2],[1,2]], 1)"
      ],
      "metadata": {
        "colab": {
          "base_uri": "https://localhost:8080/"
        },
        "id": "Ewk8L8rsrg-M",
        "outputId": "51269c17-9f94-4eed-a05a-017feebb490d"
      },
      "execution_count": 2,
      "outputs": [
        {
          "output_type": "stream",
          "name": "stdout",
          "text": [
            "defaultdict(<class 'list'>, {4: [2], 2: [4, 1], 1: [2]})\n",
            "[-1, -1, -1, -1] deque([1])\n"
          ]
        },
        {
          "output_type": "execute_result",
          "data": {
            "text/plain": [
              "[6, -1, 12]"
            ]
          },
          "metadata": {},
          "execution_count": 2
        }
      ]
    },
    {
      "cell_type": "code",
      "source": [
        "# Create a deque\n",
        "d = deque([1, 2, 3])\n",
        "print(d)\n",
        "# Append elements to the right\n",
        "d.append(4)\n",
        "print(d)\n",
        "d.append(5)\n",
        "print(d)\n",
        "# Append elements to the left\n",
        "d.appendleft(0)\n",
        "print(d)\n",
        "# Pop elements from the right\n",
        "print(d.pop())  # Output: 5\n",
        "print(d.pop())  # Output: 4\n",
        "\n",
        "# Pop elements from the left\n",
        "print(d.popleft())  # Output: 0\n",
        "print(d)  # Output: deque([1, 2, 3])\n"
      ],
      "metadata": {
        "colab": {
          "base_uri": "https://localhost:8080/"
        },
        "id": "hFSNoUGPrkTB",
        "outputId": "a5a90b3c-a7f3-4e10-c5ab-77384e3f9883"
      },
      "execution_count": 3,
      "outputs": [
        {
          "output_type": "stream",
          "name": "stdout",
          "text": [
            "deque([1, 2, 3])\n",
            "deque([1, 2, 3, 4])\n",
            "deque([1, 2, 3, 4, 5])\n",
            "deque([0, 1, 2, 3, 4, 5])\n",
            "5\n",
            "4\n",
            "0\n",
            "deque([1, 2, 3])\n"
          ]
        }
      ]
    }
  ]
}