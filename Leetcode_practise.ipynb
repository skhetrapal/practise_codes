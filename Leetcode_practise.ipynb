{
  "cells": [
    {
      "cell_type": "markdown",
      "metadata": {
        "id": "view-in-github",
        "colab_type": "text"
      },
      "source": [
        "<a href=\"https://colab.research.google.com/github/skhetrapal/practise_codes/blob/main/Leetcode_practise.ipynb\" target=\"_parent\"><img src=\"https://colab.research.google.com/assets/colab-badge.svg\" alt=\"Open In Colab\"/></a>"
      ]
    },
    {
      "cell_type": "markdown",
      "metadata": {
        "id": "kfywco63miyg"
      },
      "source": [
        "# Given an array nums of size n, return the majority element.\n",
        "\n",
        "The majority element is the element that appears more than ⌊n / 2⌋ times. You may assume that the majority element always exists in the array.\n",
        "\n",
        "Example 1:\n",
        "\n",
        "Input: nums = [3,2,3]\n",
        "Output: 3\n",
        "Example 2:\n",
        "\n",
        "Input: nums = [2,2,1,1,1,2,2]\n",
        "Output: 2"
      ]
    },
    {
      "cell_type": "code",
      "execution_count": null,
      "metadata": {
        "id": "UieHyzGPjahq"
      },
      "outputs": [],
      "source": [
        "def majorityElement(self, nums: List[int]) -> int:\n",
        "        nums.sort()\n",
        "        return nums[len(nums)//2]"
      ]
    },
    {
      "cell_type": "code",
      "execution_count": null,
      "metadata": {
        "id": "4anvBBI6mUOB"
      },
      "outputs": [],
      "source": [
        "def majorityElement(self, nums: List[int]) -> int:\n",
        "  unique_elements = list(set(nums))\n",
        "  counts = []\n",
        "  for k in unique_elements:\n",
        "    counts.append(nums.count(k))\n",
        "\n",
        "  return unique_elements[counts.index(max(counts))]"
      ]
    },
    {
      "cell_type": "markdown",
      "metadata": {
        "id": "NdQQEIhD8fUy"
      },
      "source": [
        "#Given an integer array nums, rotate the array to the right by k steps, where k is non-negative.\n",
        "\n",
        "\n",
        "\n",
        "Example 1:\n",
        "\n",
        "Input: nums = [1,2,3,4,5,6,7], k = 3\n",
        "Output: [5,6,7,1,2,3,4]\n",
        "Explanation:\n",
        "rotate 1 steps to the right: [7,1,2,3,4,5,6]\n",
        "rotate 2 steps to the right: [6,7,1,2,3,4,5]\n",
        "rotate 3 steps to the right: [5,6,7,1,2,3,4]\n",
        "Example 2:\n",
        "\n",
        "Input: nums = [-1,-100,3,99], k = 2\n",
        "Output: [3,99,-1,-100]\n",
        "Explanation:\n",
        "rotate 1 steps to the right: [99,-1,-100,3]\n",
        "rotate 2 steps to the right: [3,99,-1,-100]"
      ]
    },
    {
      "cell_type": "code",
      "execution_count": null,
      "metadata": {
        "id": "c-WsLTxa8hBV"
      },
      "outputs": [],
      "source": [
        "class Solution:\n",
        "    def rotate(self, nums: List[int], k: int) -> None:\n",
        "        k = k % len(nums)\n",
        "        if k == 0:\n",
        "            return\n",
        "\n",
        "        nums[:] = nums[-k:] + nums[:-k]"
      ]
    },
    {
      "cell_type": "markdown",
      "metadata": {
        "id": "n7m3zPo-8rFe"
      },
      "source": [
        "#Best time to Buy and sell stock\n",
        "\n",
        "You are given an array prices where prices[i] is the price of a given stock on the ith day.\n",
        "\n",
        "You want to maximize your profit by choosing a single day to buy one stock and choosing a different day in the future to sell that stock.\n",
        "\n",
        "Return the maximum profit you can achieve from this transaction. If you cannot achieve any profit, return 0.\n",
        "\n",
        "\n",
        "\n",
        "Example 1:\n",
        "\n",
        "Input: prices = [7,1,5,3,6,4]\n",
        "Output: 5\n",
        "Explanation: Buy on day 2 (price = 1) and sell on day 5 (price = 6), profit = 6-1 = 5.\n",
        "Note that buying on day 2 and selling on day 1 is not allowed because you must buy before you sell.\n",
        "Example 2:\n",
        "\n",
        "Input: prices = [7,6,4,3,1]\n",
        "Output: 0\n",
        "Explanation: In this case, no transactions are done and the max profit = 0."
      ]
    },
    {
      "cell_type": "code",
      "execution_count": null,
      "metadata": {
        "colab": {
          "base_uri": "https://localhost:8080/"
        },
        "id": "6mIU8k6k8qyZ",
        "outputId": "de95edaa-8b65-481d-c009-d120eff108bd"
      },
      "outputs": [
        {
          "name": "stdout",
          "output_type": "stream",
          "text": [
            "2\n"
          ]
        }
      ],
      "source": [
        "prices = [2,4,1]\n",
        "\n",
        "buy = prices[0]\n",
        "\n",
        "if len(prices) == 1:\n",
        "  return 0\n",
        "\n",
        "profit = max(prices[1:])-buy\n",
        "\n",
        "for i in range(1,len(prices)):\n",
        "  if prices[i] < buy:\n",
        "    buy = prices[i]\n",
        "  elif prices[i] - buy > profit:\n",
        "    profit = prices[i] - buy\n",
        "\n",
        "return profit"
      ]
    },
    {
      "cell_type": "markdown",
      "metadata": {
        "id": "mJj1BN-qZQLl"
      },
      "source": [
        "#**Best time to buy sell stocks 2**\n",
        "\n",
        "You are given an integer array prices where prices[i] is the price of a given stock on the ith day.\n",
        "\n",
        "On each day, you may decide to buy and/or sell the stock. You can only hold at most one share of the stock at any time. However, you can buy it then immediately sell it on the same day.\n",
        "\n",
        "Find and return the maximum profit you can achieve.\n",
        "\n",
        "\n",
        "\n",
        "Example 1:\n",
        "\n",
        "Input: prices = [7,1,5,3,6,4]\n",
        "Output: 7\n",
        "Explanation: Buy on day 2 (price = 1) and sell on day 3 (price = 5), profit = 5-1 = 4.\n",
        "Then buy on day 4 (price = 3) and sell on day 5 (price = 6), profit = 6-3 = 3.\n",
        "Total profit is 4 + 3 = 7.\n",
        "Example 2:\n",
        "\n",
        "Input: prices = [1,2,3,4,5]\n",
        "Output: 4\n",
        "Explanation: Buy on day 1 (price = 1) and sell on day 5 (price = 5), profit = 5-1 = 4.\n",
        "Total profit is 4.\n",
        "Example 3:\n",
        "\n",
        "Input: prices = [7,6,4,3,1]\n",
        "Output: 0\n",
        "Explanation: There is no way to make a positive profit, so we never buy the stock to achieve the maximum profit of 0."
      ]
    },
    {
      "cell_type": "code",
      "execution_count": null,
      "metadata": {
        "id": "yAvzepJDZP3O"
      },
      "outputs": [],
      "source": [
        "def maxProfit(prices):\n",
        "        profit = 0\n",
        "        for i in range(1,len(prices)):\n",
        "            if prices[i] > prices[i-1]:\n",
        "                profit += prices[i] - prices[i-1]\n",
        "        return profit"
      ]
    },
    {
      "cell_type": "code",
      "execution_count": null,
      "metadata": {
        "colab": {
          "base_uri": "https://localhost:8080/"
        },
        "id": "yCwY9h6pCMQi",
        "outputId": "9b758435-d466-4374-f292-7fc0f5e9f93f"
      },
      "outputs": [
        {
          "data": {
            "text/plain": [
              "7"
            ]
          },
          "execution_count": 4,
          "metadata": {},
          "output_type": "execute_result"
        }
      ],
      "source": [
        "maxProfit([7,1,5,3,6,4])"
      ]
    },
    {
      "cell_type": "code",
      "execution_count": null,
      "metadata": {
        "colab": {
          "base_uri": "https://localhost:8080/"
        },
        "id": "u5CssLXfaT3l",
        "outputId": "8ae2b230-3716-4a1d-eaad-30a740660c16"
      },
      "outputs": [
        {
          "data": {
            "text/plain": [
              "4"
            ]
          },
          "execution_count": 5,
          "metadata": {},
          "output_type": "execute_result"
        }
      ],
      "source": [
        "maxProfit([1,2,3,4,5])"
      ]
    },
    {
      "cell_type": "code",
      "execution_count": null,
      "metadata": {
        "colab": {
          "base_uri": "https://localhost:8080/"
        },
        "id": "p6t5QXvMaZD_",
        "outputId": "11ae4ba4-7788-46b9-de2b-0690e32a8da9"
      },
      "outputs": [
        {
          "data": {
            "text/plain": [
              "0"
            ]
          },
          "execution_count": 6,
          "metadata": {},
          "output_type": "execute_result"
        }
      ],
      "source": [
        "maxProfit( [7,6,4,3,1])"
      ]
    },
    {
      "cell_type": "markdown",
      "metadata": {
        "id": "ElzDM7qldZI0"
      },
      "source": [
        "#Jump Game\n",
        "\n",
        "You are given an integer array nums. You are initially positioned at the array's first index, and each element in the array represents your maximum jump length at that position.\n",
        "\n",
        "Return true if you can reach the last index, or false otherwise.\n",
        "\n",
        "\n",
        "\n",
        "Example 1:\n",
        "\n",
        "Input: nums = [2,3,1,1,4]\n",
        "Output: true\n",
        "Explanation: Jump 1 step from index 0 to 1, then 3 steps to the last index.\n",
        "Example 2:\n",
        "\n",
        "Input: nums = [3,2,1,0,4]\n",
        "Output: false\n",
        "Explanation: You will always arrive at index 3 no matter what. Its maximum jump length is 0, which makes it impossible to reach the last index."
      ]
    },
    {
      "cell_type": "code",
      "execution_count": null,
      "metadata": {
        "id": "IOFTzE6XdYjJ"
      },
      "outputs": [],
      "source": [
        "def canJump(self, nums: List[int]) -> bool:\n",
        "        max_jump = 0\n",
        "        for i in range(len(nums)):\n",
        "            if i > max_jump:\n",
        "                return False\n",
        "            max_jump = max(max_jump, i + nums[i])\n",
        "        return True"
      ]
    },
    {
      "cell_type": "markdown",
      "metadata": {
        "id": "0JU1hdY8MXBb"
      },
      "source": [
        "#**Jump Game 2**\n",
        "\n",
        "You are given a 0-indexed array of integers nums of length n. You are initially positioned at nums[0].\n",
        "\n",
        "Each element nums[i] represents the maximum length of a forward jump from index i. In other words, if you are at nums[i], you can jump to any nums[i + j] where:\n",
        "\n",
        "0 <= j <= nums[i] and\n",
        "i + j < n\n",
        "Return the minimum number of jumps to reach nums[n - 1]. The test cases are generated such that you can reach nums[n - 1].\n",
        "\n",
        "\n",
        "\n",
        "Example 1:\n",
        "\n",
        "Input: nums = [2,3,1,1,4]\n",
        "Output: 2\n",
        "Explanation: The minimum number of jumps to reach the last index is 2. Jump 1 step from index 0 to 1, then 3 steps to the last index.\n",
        "Example 2:\n",
        "\n",
        "Input: nums = [2,3,0,1,4]\n",
        "Output: 2"
      ]
    },
    {
      "cell_type": "code",
      "execution_count": null,
      "metadata": {
        "id": "fnfxH60bac-h"
      },
      "outputs": [],
      "source": [
        "def jump(self, nums):\n",
        "  n = len(nums)\n",
        "  jumps = 0\n",
        "  current_jump_end = 0\n",
        "  farthest = 0\n",
        "  for i in range(n - 1):\n",
        "    farthest = max(farthest, i + nums[i])\n",
        "    if i == current_jump_end:\n",
        "      jumps += 1\n",
        "      current_jump_end = farthest\n",
        "  return jumps"
      ]
    },
    {
      "cell_type": "code",
      "execution_count": null,
      "metadata": {
        "id": "PFDT-kfXeIpy"
      },
      "outputs": [],
      "source": [
        "    def hIndex(citations):\n",
        "        n = len(citations)\n",
        "        citations.sort()\n",
        "        print(citations)\n",
        "        h=0\n",
        "        for i in range(n):\n",
        "          print(i, n-i, citations[i])\n",
        "          if n-i >= citations[i]:\n",
        "            h = citations[i]\n",
        "\n",
        "        return h"
      ]
    },
    {
      "cell_type": "code",
      "execution_count": null,
      "metadata": {
        "colab": {
          "background_save": true,
          "base_uri": "https://localhost:8080/"
        },
        "id": "qjhK8aTieJ0h",
        "outputId": "8d92a0df-0e0e-4506-a07f-789fbb5a2c01"
      },
      "outputs": [
        {
          "name": "stdout",
          "output_type": "stream",
          "text": [
            "[11, 15]\n",
            "0 2 11\n",
            "1 1 15\n"
          ]
        },
        {
          "data": {
            "text/plain": [
              "0"
            ]
          },
          "execution_count": 17,
          "metadata": {},
          "output_type": "execute_result"
        }
      ],
      "source": [
        "hIndex([1,3,1])"
      ]
    },
    {
      "cell_type": "code",
      "execution_count": null,
      "metadata": {
        "id": "_1V0UG5MtIxD",
        "colab": {
          "base_uri": "https://localhost:8080/"
        },
        "outputId": "aa00b046-2c80-4d82-a604-8073fed99d54"
      },
      "outputs": [
        {
          "output_type": "stream",
          "name": "stdout",
          "text": [
            "Enter numerator4\n",
            "Enter denominator2\n",
            "result: 2.0\n"
          ]
        }
      ],
      "source": [
        "def division(a,b):\n",
        "    try:\n",
        "        a = int(a)\n",
        "        b = int(b)\n",
        "        c = a/b\n",
        "        print(\"result:\", c)\n",
        "    except ZeroDivisionError:\n",
        "        print(\"Error: Division by zero is not allowed.\")\n",
        "\n",
        "division(input(\"Enter numerator\"), input(\"Enter denominator\"))"
      ]
    },
    {
      "cell_type": "code",
      "source": [],
      "metadata": {
        "id": "51CDgtUp7Qi7"
      },
      "execution_count": null,
      "outputs": []
    }
  ],
  "metadata": {
    "colab": {
      "provenance": [],
      "authorship_tag": "ABX9TyMXNFZuRIbwOcswPkWthLcf",
      "include_colab_link": true
    },
    "kernelspec": {
      "display_name": "Python 3",
      "name": "python3"
    },
    "language_info": {
      "name": "python"
    }
  },
  "nbformat": 4,
  "nbformat_minor": 0
}